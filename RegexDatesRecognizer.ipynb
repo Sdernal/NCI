{
 "cells": [
  {
   "cell_type": "code",
   "execution_count": 1,
   "metadata": {
    "collapsed": true
   },
   "outputs": [],
   "source": [
    "import rstr\n",
    "import os\n",
    "import re"
   ]
  },
  {
   "cell_type": "code",
   "execution_count": 24,
   "metadata": {
    "collapsed": false
   },
   "outputs": [],
   "source": [
    "regFile = open('./regex2','r')\n",
    "regex = regFile.read()\n",
    "# print regex\n",
    "# for i in range(100):\n",
    "#     print rstr.xeger(regex)"
   ]
  },
  {
   "cell_type": "code",
   "execution_count": 25,
   "metadata": {
    "collapsed": true
   },
   "outputs": [],
   "source": [
    "input_file = open(\"./output.txt\", 'r')\n",
    "corpus = input_file.read()\n",
    "answers = re.findall(regex, corpus )"
   ]
  },
  {
   "cell_type": "code",
   "execution_count": 26,
   "metadata": {
    "collapsed": false
   },
   "outputs": [
    {
     "name": "stdout",
     "output_type": "stream",
     "text": [
      "['Mar 19', 'January', 'February', ' 2010', 'December 2014', 'March', '19.03.2015', ' 2016', 'Mar 24', ' 2016', ' 2016', '24.03.2015', 'Mar 20', 'April', ' 2015', '20.03.2015', 'June 3', ' 2015', '19.03.2015', 'Mar 17', 'January', 'March', 'January', 'March', ' 2014', 'March', 'January', 'March', 'February', 'January', 'February', '17.03.2015', 'Feb 16', 'January', 'November 2014', 'July 18, 2014', 'September 1, 2014', 'July 27', '16.02.2015', 'Mar 11', '11.03.2015', 'Mar 20', 'February', '20.03.2015', ' 2015', 'Mar 23', ' 2009', ' 2009', ' 2008', ' 2015', ' 2014', ' 2015', '23.03.2015', 'Mar 20', 'February', '20.03.2015', 'Mar 19', 'May', '19.03.2015', 'Mar 23', '23.03.2015', 'Mar 2', ' 2018', ' 2018', ' 2015', '02.03.2015', 'Mar 2', 'March', ' 2013', ' 2015', ' 2018', '02.03.2015', 'January', 'Mar 4', 'January', 'December 2014', 'January', '04.03.2015', 'Mar 13', ' 2015', 'February', '13.03.2015', 'Feb 5', ' 2014', ' 2013', 'December', 'January', 'January', 'December', 'January', '05.02.2014', 'Feb 20', 'February', 'June', 'January', '20.02.2015', ' 1581', 'August 21', 'May', ' 1997']\n"
     ]
    }
   ],
   "source": [
    "print answers[:100]"
   ]
  },
  {
   "cell_type": "code",
   "execution_count": 27,
   "metadata": {
    "collapsed": false
   },
   "outputs": [],
   "source": [
    "outpur_file = open(\"./regexoutput.txt\", 'w')\n",
    "for answer in answers: \n",
    "    if (answer[0] == ' '):\n",
    "        answer = answer[1:]\n",
    "    outpur_file.write(answer)\n",
    "    outpur_file.write('\\n')            \n",
    "outpur_file.close()\n",
    "regFile.close()\n",
    "input_file.close()"
   ]
  },
  {
   "cell_type": "code",
   "execution_count": 11,
   "metadata": {
    "collapsed": false
   },
   "outputs": [
    {
     "name": "stdout",
     "output_type": "stream",
     "text": [
      "['Feb', 'Apr']\n"
     ]
    }
   ],
   "source": [
    "reg = '(?:Jan|Feb|Mar|Apr)'\n",
    "inp = '12  February , 11 Apr'\n",
    "a = re.findall(regex,inp)\n",
    "print a"
   ]
  }
 ],
 "metadata": {
  "kernelspec": {
   "display_name": "Python 2",
   "language": "python",
   "name": "python2"
  },
  "language_info": {
   "codemirror_mode": {
    "name": "ipython",
    "version": 2
   },
   "file_extension": ".py",
   "mimetype": "text/x-python",
   "name": "python",
   "nbconvert_exporter": "python",
   "pygments_lexer": "ipython2",
   "version": "2.7.12"
  }
 },
 "nbformat": 4,
 "nbformat_minor": 0
}
