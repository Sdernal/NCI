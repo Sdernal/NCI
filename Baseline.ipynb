{
 "cells": [
  {
   "cell_type": "code",
   "execution_count": 1,
   "metadata": {
    "collapsed": true
   },
   "outputs": [],
   "source": [
    "import os\n",
    "import xml.etree.cElementTree as ET\n",
    "import re"
   ]
  },
  {
   "cell_type": "code",
   "execution_count": 2,
   "metadata": {
    "collapsed": true
   },
   "outputs": [],
   "source": [
    "files = os.listdir(\"./coropus_for_korzun/\")\n",
    "files.sort()\n",
    "Time = '{http://www.abbyy.com/ns/Time#}'\n",
    "rdfs = '{http://www.w3.org/2000/01/rdf-schema#}'\n",
    "Aux = '{http://www.abbyy.com/ns/Aux#}'\n",
    "regFile = open('./regex2','r')\n",
    "regex = regFile.read()\n",
    "output = open('./baselineoutput.txt','w')"
   ]
  },
  {
   "cell_type": "code",
   "execution_count": 3,
   "metadata": {
    "collapsed": false
   },
   "outputs": [
    {
     "name": "stdout",
     "output_type": "stream",
     "text": [
      "Unicode Error in file:  806312newsML.xml\n"
     ]
    }
   ],
   "source": [
    "TP = 0\n",
    "FP = 0\n",
    "FN = 0\n",
    "\n",
    "for fl in files:      \n",
    "    XML_FILE = os.path.join(\"./coropus_for_korzun/\", fl)\n",
    "    tree = ET.ElementTree(file = XML_FILE)\n",
    "    root = tree.getroot()\n",
    "    dates = set()\n",
    "    for child in root:\n",
    "        if child.tag == Time + 'PointOfTime':\n",
    "            children = child.getchildren()        \n",
    "            flag = False;       \n",
    "            for part in children:            \n",
    "                if part.tag == Time + 'month' or part.tag == Time + 'day' or part.tag == Time + 'year':\n",
    "                    flag = True\n",
    "                    break\n",
    "            if flag == True:\n",
    "                label = child.find(rdfs+'label')\n",
    "                if label != None:\n",
    "                    dates.add(label.text) \n",
    "                else:\n",
    "                    dates.add(children[0].text)\n",
    "      \n",
    "    text = root.find(Aux+'TextAnnotations').find(Aux+'document_text').text\n",
    "    answers = re.findall(regex, text)\n",
    "    for i in range(len(answers)):\n",
    "        if answers[i][0] == ' ':\n",
    "            answers[i] = answers[i][1:]       \n",
    "    answer_set = set(answers)\n",
    "    \n",
    "    output.write(fl)\n",
    "    output.write('\\n')\n",
    "    for item in dates:\n",
    "        try:\n",
    "            output.write(item)\n",
    "            output.write('; ')\n",
    "        except UnicodeEncodeError as e:       \n",
    "            print \"Unicode Error in file: \", fl \n",
    "            \n",
    "    output.write('\\n')     \n",
    "    for item in answer_set:\n",
    "        output.write(item)\n",
    "        output.write('; ')\n",
    "    output.write('\\n')   \n",
    "    output.write('\\n')\n",
    "    \n",
    "    TP += len(dates & answer_set)\n",
    "    FP += len(answer_set - dates)\n",
    "    FN += len(dates - answer_set)\n",
    "    \n",
    "regFile.close()\n",
    "output.close()"
   ]
  },
  {
   "cell_type": "code",
   "execution_count": 4,
   "metadata": {
    "collapsed": false
   },
   "outputs": [
    {
     "name": "stdout",
     "output_type": "stream",
     "text": [
      "2529 772 804\n"
     ]
    }
   ],
   "source": [
    "print TP, FN, FP"
   ]
  },
  {
   "cell_type": "code",
   "execution_count": 5,
   "metadata": {
    "collapsed": false
   },
   "outputs": [
    {
     "name": "stdout",
     "output_type": "stream",
     "text": [
      "Precision:  0.758775877588\n",
      "Recall:  0.766131475311\n",
      "F:  0.762435936087\n"
     ]
    }
   ],
   "source": [
    "precision = float(TP)/float(TP+FP)\n",
    "recall = float(TP)/float(TP+FN)\n",
    "F = 2*precision*recall/(precision+recall)\n",
    "\n",
    "print \"Precision: \", precision\n",
    "print \"Recall: \", recall\n",
    "print \"F: \", F"
   ]
  }
 ],
 "metadata": {
  "kernelspec": {
   "display_name": "Python 2",
   "language": "python",
   "name": "python2"
  },
  "language_info": {
   "codemirror_mode": {
    "name": "ipython",
    "version": 2
   },
   "file_extension": ".py",
   "mimetype": "text/x-python",
   "name": "python",
   "nbconvert_exporter": "python",
   "pygments_lexer": "ipython2",
   "version": "2.7.12"
  }
 },
 "nbformat": 4,
 "nbformat_minor": 0
}
