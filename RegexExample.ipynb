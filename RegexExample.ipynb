{
 "cells": [
  {
   "cell_type": "code",
   "execution_count": 1,
   "metadata": {
    "collapsed": true
   },
   "outputs": [],
   "source": [
    "import rstr"
   ]
  },
  {
   "cell_type": "code",
   "execution_count": 72,
   "metadata": {
    "collapsed": false
   },
   "outputs": [],
   "source": [
    "regex = '(0[1-9]|1[0-9]|2[0-9]|3[01]) (January|February|March|April|May|June|July|August|September|October|November|December) (1[0-9]{3}|20(0[0-9]|1[0-6]))'"
   ]
  },
  {
   "cell_type": "code",
   "execution_count": 73,
   "metadata": {
    "collapsed": false
   },
   "outputs": [
    {
     "name": "stdout",
     "output_type": "stream",
     "text": [
      "25 August 2007\n",
      "31 November 2011\n",
      "12 December 1326\n",
      "17 December 1574\n",
      "04 November 2012\n",
      "08 June 2014\n",
      "19 August 1847\n",
      "25 January 2010\n",
      "12 July 1367\n",
      "16 May 1321\n",
      "28 July 2000\n",
      "31 October 2013\n",
      "31 April 1985\n",
      "20 September 1691\n",
      "07 December 1410\n",
      "14 February 1239\n",
      "15 August 2008\n",
      "28 June 2010\n",
      "07 October 1306\n",
      "31 February 2006\n",
      "29 October 1146\n",
      "31 July 1201\n",
      "27 October 2001\n",
      "26 October 1058\n",
      "06 May 2013\n",
      "30 July 1224\n",
      "30 November 1147\n",
      "20 April 2015\n",
      "11 March 2011\n",
      "29 February 1201\n",
      "15 November 2012\n",
      "28 September 1621\n",
      "20 May 2013\n",
      "18 March 2010\n",
      "30 May 2003\n",
      "13 October 2014\n",
      "03 May 1982\n",
      "11 October 1118\n",
      "01 November 1121\n",
      "31 January 2015\n",
      "23 June 1090\n",
      "07 September 2010\n",
      "31 April 1614\n",
      "24 December 2014\n",
      "16 June 2014\n",
      "17 January 2015\n",
      "31 July 1907\n",
      "01 August 2007\n",
      "05 October 2009\n",
      "30 May 1412\n",
      "30 July 2013\n",
      "11 February 1036\n",
      "19 May 2012\n",
      "31 July 2011\n",
      "17 June 1123\n",
      "17 December 1615\n",
      "21 July 2011\n",
      "25 September 2015\n",
      "14 January 1892\n",
      "03 November 1589\n",
      "30 August 1843\n",
      "06 January 1539\n",
      "14 July 2014\n",
      "23 August 2010\n",
      "12 December 2002\n",
      "21 July 1751\n",
      "22 May 1094\n",
      "11 May 2015\n",
      "14 March 2014\n",
      "09 April 1773\n",
      "10 July 2000\n",
      "31 June 2001\n",
      "15 November 1057\n",
      "31 February 1818\n",
      "04 April 1333\n",
      "17 June 1546\n",
      "26 July 1062\n",
      "23 August 1921\n",
      "31 February 1915\n",
      "04 June 1853\n",
      "26 December 2013\n",
      "06 April 1134\n",
      "31 March 1965\n",
      "23 December 2016\n",
      "30 December 2006\n",
      "31 September 2010\n",
      "07 April 1630\n",
      "28 June 2013\n",
      "20 June 1379\n",
      "30 November 2014\n",
      "30 January 2007\n",
      "30 February 1269\n",
      "08 May 1621\n",
      "31 September 2009\n",
      "28 May 2016\n",
      "08 July 1155\n",
      "16 June 1227\n",
      "15 February 1954\n",
      "31 June 1713\n",
      "29 October 2010\n"
     ]
    }
   ],
   "source": [
    "for i in range(100):\n",
    "    print rstr.xeger(regex)"
   ]
  }
 ],
 "metadata": {
  "kernelspec": {
   "display_name": "Python 2",
   "language": "python",
   "name": "python2"
  },
  "language_info": {
   "codemirror_mode": {
    "name": "ipython",
    "version": 2
   },
   "file_extension": ".py",
   "mimetype": "text/x-python",
   "name": "python",
   "nbconvert_exporter": "python",
   "pygments_lexer": "ipython2",
   "version": "2.7.12"
  }
 },
 "nbformat": 4,
 "nbformat_minor": 0
}
