{
 "cells": [
  {
   "cell_type": "code",
   "execution_count": 1,
   "metadata": {
    "collapsed": true
   },
   "outputs": [],
   "source": [
    "import pandas as pd\n",
    "import numpy as np\n",
    "from sklearn.metrics import accuracy_score\n",
    "from sklearn.metrics import f1_score"
   ]
  },
  {
   "cell_type": "code",
   "execution_count": 37,
   "metadata": {
    "collapsed": true
   },
   "outputs": [],
   "source": [
    "data = pd.read_csv('answer_train.csv')"
   ]
  },
  {
   "cell_type": "code",
   "execution_count": 38,
   "metadata": {
    "collapsed": false
   },
   "outputs": [],
   "source": [
    "corpus = np.array(data.corpus)\n",
    "net = np.array(data.net)"
   ]
  },
  {
   "cell_type": "code",
   "execution_count": 39,
   "metadata": {
    "collapsed": false
   },
   "outputs": [],
   "source": [
    "TP = 0\n",
    "FP = 0\n",
    "FN = 0\n",
    "counter = 0\n",
    "while counter < len(corpus):\n",
    "    if corpus[counter] == 'NONE':\n",
    "        if net[counter] != 'NONE':\n",
    "            FP+=1\n",
    "        counter+=1\n",
    "    elif corpus[counter] == 'D_ST':\n",
    "        i = 1\n",
    "        while corpus[counter+i] != 'D_EN':\n",
    "            i+=1\n",
    "        i+=1\n",
    "        flag = True\n",
    "        for j in range(i):\n",
    "            if net[counter+j] == 'NONE':\n",
    "                flag = False\n",
    "        if flag == True:\n",
    "            TP+=1\n",
    "        else:\n",
    "            FN+=1\n",
    "        counter+=i\n",
    "    elif corpus[counter] == 'D_OR':\n",
    "        if net[counter] != 'NONE':\n",
    "            TP+=1\n",
    "        else:\n",
    "            FN+=1\n",
    "        counter+=1"
   ]
  },
  {
   "cell_type": "code",
   "execution_count": 40,
   "metadata": {
    "collapsed": false
   },
   "outputs": [
    {
     "name": "stdout",
     "output_type": "stream",
     "text": [
      "TP 5984\n",
      "FP 1582\n",
      "FN 1383\n"
     ]
    }
   ],
   "source": [
    "print(\"TP\", TP)\n",
    "print(\"FP\", FP)\n",
    "print(\"FN\", FN)"
   ]
  },
  {
   "cell_type": "code",
   "execution_count": 41,
   "metadata": {
    "collapsed": false
   },
   "outputs": [
    {
     "name": "stdout",
     "output_type": "stream",
     "text": [
      "Accuracy 0.988148714518\n",
      "Precision 0.7909066878139043\n",
      "Recall 0.8122709379666079\n",
      "Fmeasure 0.8014464608585014\n"
     ]
    }
   ],
   "source": [
    "Precision = float(TP)/float(TP+FP)\n",
    "Recall = float(TP)/float(TP+FN)\n",
    "print('Accuracy', accuracy_score(corpus,net))\n",
    "print('Precision', Precision)\n",
    "print('Recall', Recall)\n",
    "print('Fmeasure', 2.*(Precision*Recall)/(Precision+Recall))"
   ]
  },
  {
   "cell_type": "code",
   "execution_count": 82,
   "metadata": {
    "collapsed": false
   },
   "outputs": [],
   "source": [
    "TP = 0\n",
    "FP = 0\n",
    "FN = 0\n",
    "for i in range(len(corpus)):\n",
    "    if corpus[i] == 'NONE':\n",
    "        if net[i] != 'NONE':\n",
    "            FP+=1\n",
    "    else:\n",
    "        if net[i] != 'NONE':\n",
    "            TP+=1\n",
    "        else:\n",
    "            FN+=1"
   ]
  },
  {
   "cell_type": "code",
   "execution_count": null,
   "metadata": {
    "collapsed": true
   },
   "outputs": [],
   "source": []
  }
 ],
 "metadata": {
  "kernelspec": {
   "display_name": "Python 3",
   "language": "python",
   "name": "python3"
  },
  "language_info": {
   "codemirror_mode": {
    "name": "ipython",
    "version": 3
   },
   "file_extension": ".py",
   "mimetype": "text/x-python",
   "name": "python",
   "nbconvert_exporter": "python",
   "pygments_lexer": "ipython3",
   "version": "3.5.2"
  }
 },
 "nbformat": 4,
 "nbformat_minor": 2
}
