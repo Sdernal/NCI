{
 "cells": [
  {
   "cell_type": "code",
   "execution_count": 1,
   "metadata": {
    "collapsed": true
   },
   "outputs": [],
   "source": [
    "import numpy as np\n",
    "import pandas as pd"
   ]
  },
  {
   "cell_type": "code",
   "execution_count": 2,
   "metadata": {
    "collapsed": false
   },
   "outputs": [],
   "source": [
    "data = pd.read_csv('times.csv')\n",
    "sentences = np.array(data.sentence)\n",
    "tokens = np.array(data.token)\n",
    "labels = np.array(data.label)"
   ]
  },
  {
   "cell_type": "code",
   "execution_count": 4,
   "metadata": {
    "collapsed": false
   },
   "outputs": [],
   "source": [
    "encoded_tokens = []\n",
    "for i in range(len(tokens)):\n",
    "    if type(tokens[i]) != str:\n",
    "        tokens[i] = ''\n",
    "symbol_map = dict()\n",
    "inverted_symbol_map = dict()\n",
    "symbol_counter = 1\n",
    "for token in tokens:\n",
    "    encoded_token = []\n",
    "    for symbol in token:         \n",
    "        if symbol_map.get(symbol) == None:\n",
    "            symbol_map[symbol]=symbol_counter\n",
    "            inverted_symbol_map[symbol_counter]=symbol\n",
    "            symbol_counter+=1\n",
    "        encoded_token.append(symbol_map.get(symbol))\n",
    "    encoded_tokens.append(encoded_token)"
   ]
  },
  {
   "cell_type": "code",
   "execution_count": 5,
   "metadata": {
    "collapsed": false
   },
   "outputs": [],
   "source": [
    "def fitToSize(word, n):\n",
    "    wordFit = word[:n]\n",
    "    if n > len(word):\n",
    "        for i in range(n - len(word)):\n",
    "            wordFit.append(0)    \n",
    "    return wordFit"
   ]
  },
  {
   "cell_type": "code",
   "execution_count": 6,
   "metadata": {
    "collapsed": true
   },
   "outputs": [],
   "source": [
    "for i in range(len(encoded_tokens)):\n",
    "    encoded_tokens[i] = fitToSize(encoded_tokens[i],8)"
   ]
  },
  {
   "cell_type": "code",
   "execution_count": 7,
   "metadata": {
    "collapsed": true
   },
   "outputs": [],
   "source": [
    "encoded_labels = []\n",
    "for label in labels:\n",
    "    ans = [0,0,0,0,0]\n",
    "    if label == 'NONE':\n",
    "        ans[0] = 1        \n",
    "    elif label == 'D_ST': \n",
    "        ans[1] = 1   \n",
    "    elif label == 'D_PT':\n",
    "        ans[2] = 1\n",
    "    elif label == 'D_EN':\n",
    "        ans[3] = 1\n",
    "    elif label == 'D_OR':\n",
    "        ans[4] = 1    \n",
    "    encoded_labels.append(ans)"
   ]
  },
  {
   "cell_type": "code",
   "execution_count": 8,
   "metadata": {
    "collapsed": false
   },
   "outputs": [],
   "source": [
    "batchesX = []\n",
    "batchesY = []\n",
    "for i in range(sentences[-1]+1):\n",
    "    batchesX.append([])\n",
    "    batchesY.append([])\n",
    "for i in range(len(encoded_tokens)):\n",
    "    (batchesX[sentences[i]]).append(encoded_tokens[i])\n",
    "    (batchesY[sentences[i]]).append(encoded_labels[i])"
   ]
  },
  {
   "cell_type": "code",
   "execution_count": 9,
   "metadata": {
    "collapsed": false
   },
   "outputs": [
    {
     "name": "stderr",
     "output_type": "stream",
     "text": [
      "Using TensorFlow backend.\n"
     ]
    }
   ],
   "source": [
    "from keras.layers import Input\n",
    "from keras.layers import TimeDistributed\n",
    "from keras.layers import LSTM\n",
    "from keras.layers import Embedding\n",
    "from keras.layers import Dense\n",
    "from keras.models import Model"
   ]
  },
  {
   "cell_type": "code",
   "execution_count": 39,
   "metadata": {
    "collapsed": false
   },
   "outputs": [
    {
     "name": "stdout",
     "output_type": "stream",
     "text": [
      "____________________________________________________________________________________________________\n",
      "Layer (type)                     Output Shape          Param #     Connected to                     \n",
      "====================================================================================================\n",
      "inputLayer (InputLayer)          (None, None, 8)       0                                            \n",
      "____________________________________________________________________________________________________\n",
      "TDEmbedding (TimeDistributed)    (None, None, 8, 10)   1690        inputLayer[0][0]                 \n",
      "____________________________________________________________________________________________________\n",
      "TDlstm (TimeDistributed)         (None, None, 50)      12200       TDEmbedding[0][0]                \n",
      "____________________________________________________________________________________________________\n",
      "TDout (TimeDistributed)          (None, None, 5)       255         TDlstm[0][0]                     \n",
      "====================================================================================================\n",
      "Total params: 14,145\n",
      "Trainable params: 14,145\n",
      "Non-trainable params: 0\n",
      "____________________________________________________________________________________________________\n"
     ]
    }
   ],
   "source": [
    "inputLayer = Input(dtype='int32', shape=(None,8,), name = 'inputLayer')\n",
    "embeddingLayer = TimeDistributed(Embedding(input_dim = 169, output_dim = 10, trainable=True, \n",
    "                                         name = 'embeddingLayer'), name='TDEmbedding')(inputLayer)\n",
    "lstmLayer = TimeDistributed(LSTM(50, return_sequences=False, consume_less='gpu', \n",
    "                                name = 'lstmLayer'), name='TDlstm')(embeddingLayer)\n",
    "outputLayer = TimeDistributed(Dense(output_dim=5,init='zero',activation='softmax',name='outputLayer'),\n",
    "                              name='TDout')(lstmLayer)\n",
    "model = Model(input=inputLayer, output=outputLayer)\n",
    "model.compile(optimizer='adam',\n",
    "              loss='categorical_crossentropy',\n",
    "              metrics=['accuracy','fmeasure'])\n",
    "model.summary()"
   ]
  },
  {
   "cell_type": "code",
   "execution_count": 20,
   "metadata": {
    "collapsed": false
   },
   "outputs": [
    {
     "name": "stdout",
     "output_type": "stream",
     "text": [
      "17528\n"
     ]
    }
   ],
   "source": [
    "butches_count_train = int(len(batchesX)*0.8)\n",
    "print(butches_count_train)"
   ]
  },
  {
   "cell_type": "code",
   "execution_count": 134,
   "metadata": {
    "collapsed": false
   },
   "outputs": [
    {
     "name": "stdout",
     "output_type": "stream",
     "text": [
      "epoch:  0\n",
      "epoch:  1\n",
      "epoch:  2\n",
      "epoch:  3\n",
      "epoch:  4\n",
      "epoch:  5\n",
      "epoch:  6\n",
      "epoch:  7\n",
      "epoch:  8\n",
      "epoch:  9\n",
      "epoch:  10\n",
      "epoch:  11\n",
      "epoch:  12\n",
      "epoch:  13\n",
      "epoch:  14\n",
      "epoch:  15\n",
      "epoch:  16\n",
      "epoch:  17\n",
      "epoch:  18\n",
      "epoch:  19\n",
      "epoch:  20\n",
      "epoch:  21\n",
      "epoch:  22\n",
      "epoch:  23\n",
      "epoch:  24\n",
      "epoch:  25\n",
      "epoch:  26\n",
      "epoch:  27\n",
      "epoch:  28\n",
      "epoch:  29\n",
      "epoch:  30\n",
      "epoch:  31\n",
      "epoch:  32\n",
      "epoch:  33\n",
      "epoch:  34\n",
      "epoch:  35\n",
      "epoch:  36\n",
      "epoch:  37\n",
      "epoch:  38\n",
      "epoch:  39\n",
      "epoch:  40\n",
      "epoch:  41\n",
      "epoch:  42\n",
      "epoch:  43\n",
      "epoch:  44\n",
      "epoch:  45\n",
      "epoch:  46\n",
      "epoch:  47\n",
      "epoch:  48\n",
      "epoch:  49\n"
     ]
    }
   ],
   "source": [
    "trainX =  np.array(batchesX[:butches_count_train])\n",
    "trainY = np.array(batchesY[:butches_count_train])\n",
    "for epoch in range(50):\n",
    "    shuffle_indexes = np.array(range(butches_count_train))\n",
    "    np.random.shuffle(shuffle_indexes)\n",
    "    trainX = trainX[shuffle_indexes]\n",
    "    trainY = trainY[shuffle_indexes]\n",
    "    print(\"epoch: \", epoch)\n",
    "    for i in range(len(batchesX[:butches_count_train])):        \n",
    "        model.train_on_batch(np.array([trainX[i]]), np.array([trainY[i]]))                     "
   ]
  },
  {
   "cell_type": "code",
   "execution_count": 141,
   "metadata": {
    "collapsed": false
   },
   "outputs": [],
   "source": [
    "answer = []\n",
    "for i in range(len(batchesX[butches_count_train:])):\n",
    "    answer.append(model.predict_on_batch(np.array([batchesX[butches_count_train+i]])))\n",
    "# answer = []\n",
    "# for i in range(len(batchesX[:butches_count_train])):\n",
    "#     answer.append(model.predict_on_batch(np.array([batchesX[i]])))"
   ]
  },
  {
   "cell_type": "code",
   "execution_count": 142,
   "metadata": {
    "collapsed": false
   },
   "outputs": [],
   "source": [
    "decoded_answer = []\n",
    "for i in range(len(answer)):\n",
    "    for j in range(len(answer[i][0])):\n",
    "        if np.argmax(answer[i][0][j]) == 0:\n",
    "            decoded_answer.append('NONE')\n",
    "        elif np.argmax(answer[i][0][j]) == 1:\n",
    "            decoded_answer.append('D_ST')\n",
    "        elif np.argmax(answer[i][0][j]) == 2:\n",
    "            decoded_answer.append('D_PT')        \n",
    "        elif np.argmax(answer[i][0][j]) == 3:\n",
    "            decoded_answer.append('D_EN')   \n",
    "        elif np.argmax(answer[i][0][j]) == 4:\n",
    "            decoded_answer.append('D_OR')    "
   ]
  },
  {
   "cell_type": "code",
   "execution_count": 143,
   "metadata": {
    "collapsed": false
   },
   "outputs": [],
   "source": [
    "df = pd.DataFrame(data= decoded_answer, index = labels[-len(decoded_answer):])                        \n",
    "df.to_csv('answer.csv')\n",
    "# df = pd.DataFrame(data= decoded_answer, index = labels[:len(decoded_answer)])                        \n",
    "# df.to_csv('answer_train.csv')"
   ]
  }
 ],
 "metadata": {
  "kernelspec": {
   "display_name": "Python 3",
   "language": "python",
   "name": "python3"
  },
  "language_info": {
   "codemirror_mode": {
    "name": "ipython",
    "version": 3
   },
   "file_extension": ".py",
   "mimetype": "text/x-python",
   "name": "python",
   "nbconvert_exporter": "python",
   "pygments_lexer": "ipython3",
   "version": "3.5.2"
  }
 },
 "nbformat": 4,
 "nbformat_minor": 2
}
