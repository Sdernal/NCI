{
 "cells": [
  {
   "cell_type": "code",
   "execution_count": 1,
   "metadata": {
    "collapsed": true
   },
   "outputs": [],
   "source": [
    "import numpy as np\n",
    "import pandas as pd"
   ]
  },
  {
   "cell_type": "code",
   "execution_count": 17,
   "metadata": {
    "collapsed": false
   },
   "outputs": [],
   "source": [
    "data = pd.read_csv('times.csv')\n",
    "sentences = np.array(data.sentence)\n",
    "tokens = np.array(data.token)\n",
    "labels = np.array(data.label)"
   ]
  },
  {
   "cell_type": "code",
   "execution_count": 34,
   "metadata": {
    "collapsed": false
   },
   "outputs": [],
   "source": [
    "encoded_tokens = []\n",
    "symbol_map = dict()\n",
    "inverted_symbol_map = dict()\n",
    "symbol_counter = 1\n",
    "for token in tokens:\n",
    "    encoded_token = []\n",
    "    for symbol in token:         \n",
    "        if symbol_map.get(symbol) == None:\n",
    "            symbol_map[symbol]=symbol_counter\n",
    "            inverted_symbol_map[symbol_counter]=symbol\n",
    "            symbol_counter+=1\n",
    "        encoded_token.append(symbol_map.get(symbol))\n",
    "    encoded_tokens.append(encoded_token)"
   ]
  },
  {
   "cell_type": "code",
   "execution_count": 36,
   "metadata": {
    "collapsed": false
   },
   "outputs": [],
   "source": [
    "def fitToSize(word, n):\n",
    "    wordFit = word[:n]\n",
    "    if n > len(word):\n",
    "        for i in range(n - len(word)):\n",
    "            wordFit.append(0)    \n",
    "    return wordFit"
   ]
  },
  {
   "cell_type": "code",
   "execution_count": 37,
   "metadata": {
    "collapsed": true
   },
   "outputs": [],
   "source": [
    "for i in range(len(encoded_tokens)):\n",
    "    encoded_tokens[i] = fitToSize(encoded_tokens[i],8)"
   ]
  },
  {
   "cell_type": "code",
   "execution_count": 154,
   "metadata": {
    "collapsed": true
   },
   "outputs": [],
   "source": [
    "encoded_labels = []\n",
    "for label in labels:\n",
    "    ans = [0,0,0,0,0]\n",
    "    if label == 'NONE':\n",
    "        ans[0] = 1        \n",
    "    elif label == 'D_ST': \n",
    "        ans[1] = 1   \n",
    "    elif label == 'D_PT':\n",
    "        ans[2] = 1\n",
    "    elif label == 'D_EN':\n",
    "        ans[3] = 1\n",
    "    elif label == 'D_OR':\n",
    "        ans[4] = 1    \n",
    "    encoded_labels.append(ans)"
   ]
  },
  {
   "cell_type": "code",
   "execution_count": 155,
   "metadata": {
    "collapsed": false
   },
   "outputs": [],
   "source": [
    "batchesX = []\n",
    "batchesY = []\n",
    "for i in range(sentences[-1]+1):\n",
    "    batchesX.append([])\n",
    "    batchesY.append([])\n",
    "for i in range(len(encoded_tokens)):\n",
    "    (batchesX[sentences[i]]).append(encoded_tokens[i])\n",
    "    (batchesY[sentences[i]]).append(encoded_labels[i])"
   ]
  },
  {
   "cell_type": "code",
   "execution_count": 111,
   "metadata": {
    "collapsed": false
   },
   "outputs": [
    {
     "name": "stderr",
     "output_type": "stream",
     "text": [
      "Using TensorFlow backend.\n"
     ]
    }
   ],
   "source": [
    "from keras.layers import Input\n",
    "from keras.layers import TimeDistributed\n",
    "from keras.layers import LSTM\n",
    "from keras.layers import Embedding\n",
    "from keras.layers import Dense\n",
    "from keras.models import Model"
   ]
  },
  {
   "cell_type": "code",
   "execution_count": 186,
   "metadata": {
    "collapsed": false
   },
   "outputs": [
    {
     "name": "stdout",
     "output_type": "stream",
     "text": [
      "____________________________________________________________________________________________________\n",
      "Layer (type)                     Output Shape          Param #     Connected to                     \n",
      "====================================================================================================\n",
      "inputLayer (InputLayer)          (None, None, 8)       0                                            \n",
      "____________________________________________________________________________________________________\n",
      "TDEmbedding (TimeDistributed)    (None, None, 8, 10)   670         inputLayer[0][0]                 \n",
      "____________________________________________________________________________________________________\n",
      "TDlstm (TimeDistributed)         (None, None, 50)      12200       TDEmbedding[0][0]                \n",
      "____________________________________________________________________________________________________\n",
      "TDout (TimeDistributed)          (None, None, 5)       255         TDlstm[0][0]                     \n",
      "====================================================================================================\n",
      "Total params: 13,125\n",
      "Trainable params: 13,125\n",
      "Non-trainable params: 0\n",
      "____________________________________________________________________________________________________\n"
     ]
    }
   ],
   "source": [
    "inputLayer = Input(dtype='int32', shape=(None,8,), name = 'inputLayer')\n",
    "embeddingLayer = TimeDistributed(Embedding(input_dim = 67, output_dim = 10, trainable=True, \n",
    "                                         name = 'embeddingLayer'), name='TDEmbedding')(inputLayer)\n",
    "lstmLayer = TimeDistributed(LSTM(50, return_sequences=False, consume_less='gpu', \n",
    "                                name = 'lstmLayer'), name='TDlstm')(embeddingLayer)\n",
    "outputLayer = TimeDistributed(Dense(output_dim=5,init='zero',activation='softmax',name='outputLayer'),\n",
    "                              name='TDout')(lstmLayer)\n",
    "model = Model(input=inputLayer, output=outputLayer)\n",
    "model.compile(optimizer='adam',\n",
    "              loss='categorical_crossentropy',\n",
    "              metrics=['accuracy','fmeasure'])\n",
    "model.summary()"
   ]
  },
  {
   "cell_type": "code",
   "execution_count": 187,
   "metadata": {
    "collapsed": false
   },
   "outputs": [
    {
     "name": "stdout",
     "output_type": "stream",
     "text": [
      "Batch num:  0\n",
      "Batch num:  500\n",
      "Batch num:  1000\n",
      "Batch num:  1500\n",
      "Batch num:  2000\n",
      "Batch num:  2500\n",
      "Batch num:  3000\n",
      "Batch num:  3500\n",
      "Batch num:  4000\n",
      "Batch num:  4500\n",
      "Batch num:  5000\n",
      "Batch num:  5500\n",
      "Batch num:  6000\n",
      "Batch num:  6500\n"
     ]
    }
   ],
   "source": [
    "for i in range(len(batchesX[:7000])):\n",
    "    model.train_on_batch(np.array([batchesX[i]]), np.array([batchesY[i]]))\n",
    "    if i % 500 == 0:\n",
    "        print(\"Batch num: \", i)               "
   ]
  },
  {
   "cell_type": "code",
   "execution_count": 188,
   "metadata": {
    "collapsed": false
   },
   "outputs": [],
   "source": [
    "answer = []\n",
    "for i in range(len(batchesX[7000:])):\n",
    "    answer.append(model.predict_on_batch(np.array([batchesX[7000+i]])))"
   ]
  },
  {
   "cell_type": "code",
   "execution_count": 189,
   "metadata": {
    "collapsed": false
   },
   "outputs": [],
   "source": [
    "decoded_answer = []\n",
    "for i in range(len(answer)):\n",
    "    for j in range(len(answer[i][0])):\n",
    "        if np.argmax(answer[i][0][j]) == 0:\n",
    "            decoded_answer.append('NONE')\n",
    "        elif np.argmax(answer[i][0][j]) == 1:\n",
    "            decoded_answer.append('D_ST')\n",
    "        elif np.argmax(answer[i][0][j]) == 2:\n",
    "            decoded_answer.append('D_PT')        \n",
    "        elif np.argmax(answer[i][0][j]) == 3:\n",
    "            decoded_answer.append('D_EN')   \n",
    "        elif np.argmax(answer[i][0][j]) == 4:\n",
    "            decoded_answer.append('D_OR')    "
   ]
  },
  {
   "cell_type": "code",
   "execution_count": 190,
   "metadata": {
    "collapsed": false
   },
   "outputs": [],
   "source": [
    "df = pd.DataFrame(data= decoded_answer, index = labels[215475:])                        \n",
    "df.to_csv('answer.csv')"
   ]
  },
  {
   "cell_type": "code",
   "execution_count": null,
   "metadata": {
    "collapsed": true
   },
   "outputs": [],
   "source": []
  }
 ],
 "metadata": {
  "kernelspec": {
   "display_name": "Python 3",
   "language": "python",
   "name": "python3"
  },
  "language_info": {
   "codemirror_mode": {
    "name": "ipython",
    "version": 3
   },
   "file_extension": ".py",
   "mimetype": "text/x-python",
   "name": "python",
   "nbconvert_exporter": "python",
   "pygments_lexer": "ipython3",
   "version": "3.5.2"
  }
 },
 "nbformat": 4,
 "nbformat_minor": 2
}
