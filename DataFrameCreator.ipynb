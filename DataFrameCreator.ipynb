{
 "cells": [
  {
   "cell_type": "code",
   "execution_count": 25,
   "metadata": {
    "collapsed": false
   },
   "outputs": [],
   "source": [
    "import pandas as pd\n",
    "import os\n",
    "import xml.etree.cElementTree as ET\n",
    "import re\n",
    "import numpy as np"
   ]
  },
  {
   "cell_type": "code",
   "execution_count": 77,
   "metadata": {
    "collapsed": false
   },
   "outputs": [
    {
     "data": {
      "text/html": [
       "<div>\n",
       "<table border=\"1\" class=\"dataframe\">\n",
       "  <thead>\n",
       "    <tr style=\"text-align: right;\">\n",
       "      <th></th>\n",
       "      <th>label</th>\n",
       "    </tr>\n",
       "  </thead>\n",
       "  <tbody>\n",
       "    <tr>\n",
       "      <th>one</th>\n",
       "      <td>1</td>\n",
       "    </tr>\n",
       "    <tr>\n",
       "      <th>two</th>\n",
       "      <td>2</td>\n",
       "    </tr>\n",
       "    <tr>\n",
       "      <th>one</th>\n",
       "      <td>3</td>\n",
       "    </tr>\n",
       "    <tr>\n",
       "      <th>two</th>\n",
       "      <td>4</td>\n",
       "    </tr>\n",
       "    <tr>\n",
       "      <th>two</th>\n",
       "      <td>5</td>\n",
       "    </tr>\n",
       "  </tbody>\n",
       "</table>\n",
       "</div>"
      ],
      "text/plain": [
       "     label\n",
       "one      1\n",
       "two      2\n",
       "one      3\n",
       "two      4\n",
       "two      5"
      ]
     },
     "execution_count": 77,
     "metadata": {},
     "output_type": "execute_result"
    }
   ],
   "source": [
    "d =[1,2,3,4,5]\n",
    "df = pd.DataFrame(data=d, index = ['one','two','one','two','two'], columns = ['label'])\n",
    "df.head()"
   ]
  },
  {
   "cell_type": "code",
   "execution_count": 15,
   "metadata": {
    "collapsed": true
   },
   "outputs": [],
   "source": [
    "files = os.listdir(\"./coropus_for_korzun/\")\n",
    "files.sort()\n",
    "Time = '{http://www.abbyy.com/ns/Time#}'\n",
    "rdfs = '{http://www.w3.org/2000/01/rdf-schema#}'\n",
    "Aux = '{http://www.abbyy.com/ns/Aux#}'"
   ]
  },
  {
   "cell_type": "code",
   "execution_count": 50,
   "metadata": {
    "collapsed": true
   },
   "outputs": [],
   "source": [
    "stripv = np.vectorize(lambda x,a: x.strip(a))"
   ]
  },
  {
   "cell_type": "code",
   "execution_count": 57,
   "metadata": {
    "collapsed": true
   },
   "outputs": [],
   "source": [
    "def split_text(s):\n",
    "    s = s.replace('\\u2028', ' ').split(' ')\n",
    "    s = list(filter(lambda x: x !='', s))\n",
    "    s = stripv(stripv(s,'.'),',')\n",
    "    return s"
   ]
  },
  {
   "cell_type": "code",
   "execution_count": 98,
   "metadata": {
    "collapsed": false
   },
   "outputs": [],
   "source": [
    "WORDS = []\n",
    "INDEX = []\n",
    "for fl in files:  \n",
    "    XML_FILE = os.path.join(\"./coropus_for_korzun/\", fl)\n",
    "    tree = ET.ElementTree(file = XML_FILE)\n",
    "    root = tree.getroot()\n",
    "    dates = set()\n",
    "    for child in root:\n",
    "        if child.tag == Time + 'PointOfTime':\n",
    "            children = child.getchildren()        \n",
    "            flag = False;       \n",
    "            for part in children:            \n",
    "                if part.tag == Time + 'month' or part.tag == Time + 'day' or part.tag == Time + 'year':\n",
    "                    flag = True\n",
    "                    break\n",
    "            if flag == True:\n",
    "                label = child.find(rdfs+'label')           \n",
    "                if label != None:                   \n",
    "                    dates.add(label.text) \n",
    "                else:\n",
    "                    dates.add(children[0].text)\n",
    "    text = root.find(Aux+'TextAnnotations').find(Aux+'document_text').text\n",
    "\n",
    "    words = split_text(text)\n",
    "\n",
    "    splitted_dates = []\n",
    "    for date in dates:\n",
    "        splitted_dates.append(split_text(date))    \n",
    "\n",
    "    indexes = len(words)*['NONE']\n",
    "\n",
    "    for i in range(len(words)):\n",
    "        for j in range(len(splitted_dates)):\n",
    "            if words[i] == splitted_dates[j][0]:\n",
    "                if len(splitted_dates[j]) == 1:\n",
    "                    indexes[i] = 'D_ST'\n",
    "                else:    \n",
    "                    flag = True\n",
    "                    for k in range(len(splitted_dates[j])):\n",
    "                        try:\n",
    "                            if words[i+k] != splitted_dates[j][k]:\n",
    "                                flag = False\n",
    "                        except Exception as e:\n",
    "                            flag = False\n",
    "                    if flag == True:\n",
    "                        indexes[i] = 'D_ST'\n",
    "                        for k in range(len(splitted_dates[j]) - 1 ):\n",
    "                            indexes[i+1+k] = 'D_PT'\n",
    "                            \n",
    "    WORDS.append(words)\n",
    "    INDEX.append(indexes) \n",
    "\n",
    "\n",
    "                      "
   ]
  },
  {
   "cell_type": "code",
   "execution_count": 109,
   "metadata": {
    "collapsed": false
   },
   "outputs": [],
   "source": [
    "kek = []\n",
    "for a in WORDS:\n",
    "    for b in a:\n",
    "        kek.append(b)"
   ]
  },
  {
   "cell_type": "code",
   "execution_count": 110,
   "metadata": {
    "collapsed": true
   },
   "outputs": [],
   "source": [
    "kek2 = []\n",
    "for a in INDEX:\n",
    "    for b in a:\n",
    "        kek2.append(b)"
   ]
  },
  {
   "cell_type": "code",
   "execution_count": 111,
   "metadata": {
    "collapsed": false
   },
   "outputs": [
    {
     "data": {
      "text/plain": [
       "459952"
      ]
     },
     "execution_count": 111,
     "metadata": {},
     "output_type": "execute_result"
    }
   ],
   "source": [
    "len(kek2)"
   ]
  },
  {
   "cell_type": "code",
   "execution_count": 112,
   "metadata": {
    "collapsed": false
   },
   "outputs": [
    {
     "data": {
      "text/plain": [
       "459952"
      ]
     },
     "execution_count": 112,
     "metadata": {},
     "output_type": "execute_result"
    }
   ],
   "source": [
    "len(kek)"
   ]
  },
  {
   "cell_type": "code",
   "execution_count": 113,
   "metadata": {
    "collapsed": true
   },
   "outputs": [],
   "source": [
    "df = pd.DataFrame(data=kek, index = kek2, columns = ['label'])                        \n",
    "df.to_csv('dates.csv')  "
   ]
  },
  {
   "cell_type": "code",
   "execution_count": null,
   "metadata": {
    "collapsed": true
   },
   "outputs": [],
   "source": []
  }
 ],
 "metadata": {
  "kernelspec": {
   "display_name": "Python 3",
   "language": "python",
   "name": "python3"
  },
  "language_info": {
   "codemirror_mode": {
    "name": "ipython",
    "version": 3
   },
   "file_extension": ".py",
   "mimetype": "text/x-python",
   "name": "python",
   "nbconvert_exporter": "python",
   "pygments_lexer": "ipython3",
   "version": "3.5.2"
  }
 },
 "nbformat": 4,
 "nbformat_minor": 2
}
